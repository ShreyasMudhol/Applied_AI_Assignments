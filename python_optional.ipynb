{
 "cells": [
  {
   "cell_type": "code",
   "execution_count": 1,
   "id": "7e9ae842",
   "metadata": {},
   "outputs": [
    {
     "data": {
      "text/plain": [
       "' Q1. Write a function that inputs a number and prints the multiplication table of that number'"
      ]
     },
     "execution_count": 1,
     "metadata": {},
     "output_type": "execute_result"
    }
   ],
   "source": [
    "''' Q1. Write a function that inputs a number and prints the multiplication table of that number.'''"
   ]
  },
  {
   "cell_type": "code",
   "execution_count": 2,
   "id": "dba61256",
   "metadata": {},
   "outputs": [],
   "source": [
    "def tables(num):\n",
    "    for i in range (1,11):\n",
    "         print(f\"{num} X {i} = {num*i}\")"
   ]
  },
  {
   "cell_type": "code",
   "execution_count": 3,
   "id": "c049710e",
   "metadata": {},
   "outputs": [
    {
     "name": "stdout",
     "output_type": "stream",
     "text": [
      "Enter a number 4\n",
      "4 X 1 = 4\n",
      "4 X 2 = 8\n",
      "4 X 3 = 12\n",
      "4 X 4 = 16\n",
      "4 X 5 = 20\n",
      "4 X 6 = 24\n",
      "4 X 7 = 28\n",
      "4 X 8 = 32\n",
      "4 X 9 = 36\n",
      "4 X 10 = 40\n"
     ]
    }
   ],
   "source": [
    "num=int(input(\"Enter a number \"))\n",
    "tables(num)"
   ]
  },
  {
   "cell_type": "code",
   "execution_count": 4,
   "id": "30f3847f",
   "metadata": {},
   "outputs": [
    {
     "data": {
      "text/plain": [
       "' Q2. Write a program to print twin primes less than 1000.'"
      ]
     },
     "execution_count": 4,
     "metadata": {},
     "output_type": "execute_result"
    }
   ],
   "source": [
    "''' Q2. Write a program to print twin primes less than 1000.'''"
   ]
  },
  {
   "cell_type": "code",
   "execution_count": 16,
   "id": "010ca296",
   "metadata": {},
   "outputs": [
    {
     "name": "stdout",
     "output_type": "stream",
     "text": [
      "Twin prime number is 3 , 5\n",
      "Twin prime number is 5 , 7\n",
      "Twin prime number is 11 , 13\n",
      "Twin prime number is 17 , 19\n",
      "Twin prime number is 29 , 31\n",
      "Twin prime number is 41 , 43\n",
      "Twin prime number is 59 , 61\n",
      "Twin prime number is 71 , 73\n",
      "Twin prime number is 101 , 103\n",
      "Twin prime number is 107 , 109\n",
      "Twin prime number is 137 , 139\n",
      "Twin prime number is 149 , 151\n",
      "Twin prime number is 179 , 181\n",
      "Twin prime number is 191 , 193\n",
      "Twin prime number is 197 , 199\n",
      "Twin prime number is 227 , 229\n",
      "Twin prime number is 239 , 241\n",
      "Twin prime number is 269 , 271\n",
      "Twin prime number is 281 , 283\n",
      "Twin prime number is 311 , 313\n",
      "Twin prime number is 347 , 349\n",
      "Twin prime number is 419 , 421\n",
      "Twin prime number is 431 , 433\n",
      "Twin prime number is 461 , 463\n",
      "Twin prime number is 521 , 523\n",
      "Twin prime number is 569 , 571\n",
      "Twin prime number is 599 , 601\n",
      "Twin prime number is 617 , 619\n",
      "Twin prime number is 641 , 643\n",
      "Twin prime number is 659 , 661\n",
      "Twin prime number is 809 , 811\n",
      "Twin prime number is 821 , 823\n",
      "Twin prime number is 827 , 829\n",
      "Twin prime number is 857 , 859\n",
      "Twin prime number is 881 , 883\n"
     ]
    }
   ],
   "source": [
    "def primes(num):\n",
    "    p=0\n",
    "    for i in range(2,num):\n",
    "        if num%i==0:\n",
    "            p=1\n",
    "    return p\n",
    "\n",
    "for i in range (2,1001):\n",
    "    if primes(i)==0 and primes(i+2)==0:\n",
    "        print(f\"Twin prime number is {i} , {i+2}\")"
   ]
  },
  {
   "cell_type": "code",
   "execution_count": 23,
   "id": "a49b607f",
   "metadata": {},
   "outputs": [
    {
     "data": {
      "text/plain": [
       "' Q3. Write a program to find out the factors of a number '"
      ]
     },
     "execution_count": 23,
     "metadata": {},
     "output_type": "execute_result"
    }
   ],
   "source": [
    "''' Q3. Write a program to find out the factors of a number '''"
   ]
  },
  {
   "cell_type": "code",
   "execution_count": 27,
   "id": "994b4c6f",
   "metadata": {},
   "outputs": [
    {
     "name": "stdout",
     "output_type": "stream",
     "text": [
      "Enter a number 56\n",
      "2\n",
      "2\n",
      "2\n",
      "7\n"
     ]
    }
   ],
   "source": [
    "n=int(input(\"Enter a number \"))\n",
    "i=2\n",
    "while n>1:\n",
    "    if n%i==0:\n",
    "        print(f\"{i}\")\n",
    "        n/=i\n",
    "    else:\n",
    "        i+=1"
   ]
  },
  {
   "cell_type": "code",
   "execution_count": 28,
   "id": "2b870761",
   "metadata": {},
   "outputs": [
    {
     "data": {
      "text/plain": [
       "' Q4. Write a program to impliment nPr and nCr formule '"
      ]
     },
     "execution_count": 28,
     "metadata": {},
     "output_type": "execute_result"
    }
   ],
   "source": [
    "''' Q4. Write a program to impliment nPr and nCr formule '''"
   ]
  },
  {
   "cell_type": "code",
   "execution_count": 16,
   "id": "3a9a91ac",
   "metadata": {},
   "outputs": [],
   "source": [
    "''' \n",
    "    Tried using recursive method but it was giving \n",
    "    RecursionError: maximum recursion depth exceeded in comparison\n",
    "'''\n",
    "def factorial(n):\n",
    "    fact=1\n",
    "    for i in range (1,n+1):\n",
    "        fact*=i\n",
    "    return fact"
   ]
  },
  {
   "cell_type": "code",
   "execution_count": 17,
   "id": "3a22b230",
   "metadata": {},
   "outputs": [],
   "source": [
    "def nPr(n,r):\n",
    "    return (factorial(n)/factorial(n-r))\n",
    "\n",
    "def nCr(n,r):\n",
    "    return (factorial(n)/(factorial(r)*factorial(n-r)))\n",
    "\n",
    "def ncr(n,r):\n",
    "    return (nPr(n,r)/factorial(r))"
   ]
  },
  {
   "cell_type": "code",
   "execution_count": 18,
   "id": "2e2b99f2",
   "metadata": {},
   "outputs": [
    {
     "name": "stdout",
     "output_type": "stream",
     "text": [
      "Value of n should be greater than or equal to r \n",
      "Enter the value of n 6\n",
      "Enter the value of r 5\n",
      "The value of 6P5 is 720.0\n",
      "The value of 6C5 is 6.0\n",
      "The value of 6c5 is 6.0\n"
     ]
    }
   ],
   "source": [
    "print(\"Value of n should be greater than or equal to r \")\n",
    "n=int(input(\"Enter the value of n \"))\n",
    "r=int(input(\"Enter the value of r \"))\n",
    "\n",
    "print(f\"The value of {n}P{r} is {nPr(n,r)}\")\n",
    "print(f\"The value of {n}C{r} is {nCr(n,r)}\")\n",
    "print(f\"The value of {n}c{r} is {ncr(n,r)}\")"
   ]
  },
  {
   "cell_type": "code",
   "execution_count": 19,
   "id": "dda6e754",
   "metadata": {},
   "outputs": [
    {
     "data": {
      "text/plain": [
       "' Q5. Write a function that converts a decimal number to binary number.'"
      ]
     },
     "execution_count": 19,
     "metadata": {},
     "output_type": "execute_result"
    }
   ],
   "source": [
    "''' Q5. Write a function that converts a decimal number to binary number.'''"
   ]
  },
  {
   "cell_type": "code",
   "execution_count": 36,
   "id": "db06fcba",
   "metadata": {},
   "outputs": [
    {
     "name": "stdout",
     "output_type": "stream",
     "text": [
      "101"
     ]
    }
   ],
   "source": [
    "def decToBin(n):\n",
    "    if n>1:\n",
    "        decToBin(n//2)\n",
    "    print(f\"{n%2}\",end=\"\")\n",
    "decToBin(5)"
   ]
  },
  {
   "cell_type": "code",
   "execution_count": 37,
   "id": "38ebb051",
   "metadata": {},
   "outputs": [
    {
     "data": {
      "text/plain": [
       "' Q6. Write a function to calculate cubesum and then evaluate armstrong of a number.'"
      ]
     },
     "execution_count": 37,
     "metadata": {},
     "output_type": "execute_result"
    }
   ],
   "source": [
    "''' Q6. Write a function to calculate cubesum and then evaluate armstrong of a number.'''"
   ]
  },
  {
   "cell_type": "code",
   "execution_count": 48,
   "id": "1e274cf4",
   "metadata": {},
   "outputs": [],
   "source": [
    "def cubesum(n):\n",
    "    sum=0\n",
    "    while (n>0):\n",
    "        sum+=((n%10)**3)\n",
    "        n//=10\n",
    "    return sum"
   ]
  },
  {
   "cell_type": "code",
   "execution_count": 60,
   "id": "f4ac89d2",
   "metadata": {},
   "outputs": [],
   "source": [
    "def printarmstrong(ll,ul):\n",
    "    for i in range (ll,ul+1):\n",
    "        if i == cubesum(i):\n",
    "            print(i)\n",
    "\n",
    "def isarmstrong(num):\n",
    "    if num == cubesum(num):\n",
    "        print(f\"Given {num} is a armstrong number\")\n",
    "    else:\n",
    "         print(f\"Given {num} is not a armstrong number\")"
   ]
  },
  {
   "cell_type": "code",
   "execution_count": 61,
   "id": "8fcbe903",
   "metadata": {},
   "outputs": [
    {
     "name": "stdout",
     "output_type": "stream",
     "text": [
      "To get armstrong numbers in range \n",
      "Enter lower limit 1\n",
      "Enter upper limit 500\n",
      "1\n",
      "153\n",
      "370\n",
      "371\n",
      "407\n"
     ]
    }
   ],
   "source": [
    "print(\"To get armstrong numbers in range \")\n",
    "ll=int(input(\"Enter lower limit \"))\n",
    "ul=int(input(\"Enter upper limit \"))\n",
    "\n",
    "printarmstrong(ll,ul)"
   ]
  },
  {
   "cell_type": "code",
   "execution_count": 64,
   "id": "097ccd75",
   "metadata": {
    "scrolled": true
   },
   "outputs": [
    {
     "name": "stdout",
     "output_type": "stream",
     "text": [
      "Enter a number to check if the number is armstrong number or not 153\n",
      "Given 153 is a armstrong number\n"
     ]
    }
   ],
   "source": [
    "num=int(input(\"Enter a number to check if the number is armstrong number or not \"))\n",
    "\n",
    "isarmstrong(num)"
   ]
  },
  {
   "cell_type": "code",
   "execution_count": null,
   "id": "f0ea5e02",
   "metadata": {},
   "outputs": [],
   "source": [
    "''' Q7. Write a function prodDigits which returns product of that numbers by digits.'''"
   ]
  },
  {
   "cell_type": "code",
   "execution_count": 88,
   "id": "dfa55da1",
   "metadata": {},
   "outputs": [],
   "source": [
    "def prodDigits(n):\n",
    "    product=1\n",
    "    while (n>0):\n",
    "        product*=(n%10)\n",
    "        n//=10\n",
    "    return product"
   ]
  },
  {
   "cell_type": "code",
   "execution_count": 107,
   "id": "043956d2",
   "metadata": {},
   "outputs": [
    {
     "name": "stdout",
     "output_type": "stream",
     "text": [
      "Enter a number 32\n",
      "Product sum of the given number 32 is 6\n"
     ]
    }
   ],
   "source": [
    "n=int(input(\"Enter a number \"))\n",
    "print(f\"Product sum of the given number {n} is {prodDigits(n)}\")"
   ]
  },
  {
   "cell_type": "code",
   "execution_count": 106,
   "id": "f280c72c",
   "metadata": {},
   "outputs": [
    {
     "data": {
      "text/plain": [
       "' Q8. Write 2 fuctions MDR and MPersistence.'"
      ]
     },
     "execution_count": 106,
     "metadata": {},
     "output_type": "execute_result"
    }
   ],
   "source": [
    "''' Q8. Write 2 fuctions MDR and MPersistence.'''"
   ]
  },
  {
   "cell_type": "code",
   "execution_count": 117,
   "id": "48beb20b",
   "metadata": {},
   "outputs": [],
   "source": [
    "def MDR(n):\n",
    "    temp=n\n",
    "    while 1:\n",
    "        p = prodDigits(n)\n",
    "        if p<10:\n",
    "            print(f\"MDR of given number {temp} is {p}\")\n",
    "            break\n",
    "        n=p      \n",
    "def MPersistence(n):\n",
    "    temp=n\n",
    "    c=0\n",
    "    while 1:\n",
    "        c+=1\n",
    "        p = prodDigits(n)\n",
    "        if p<10:\n",
    "            print(f\"MPersistence of given number {temp} is {c}\")\n",
    "            break\n",
    "        n=p"
   ]
  },
  {
   "cell_type": "code",
   "execution_count": 118,
   "id": "8d583916",
   "metadata": {},
   "outputs": [
    {
     "name": "stdout",
     "output_type": "stream",
     "text": [
      "Enter a number 86\n",
      "MDR of given number 86 is 6\n",
      "MPersistence of given number 86 is 3\n"
     ]
    }
   ],
   "source": [
    "n=int(input(\"Enter a number \"))\n",
    "MDR(n)\n",
    "MPersistence(n)"
   ]
  },
  {
   "cell_type": "code",
   "execution_count": 1,
   "id": "ce590e6c",
   "metadata": {},
   "outputs": [
    {
     "data": {
      "text/plain": [
       "' Q9. Write a function sumPdivisors.'"
      ]
     },
     "execution_count": 1,
     "metadata": {},
     "output_type": "execute_result"
    }
   ],
   "source": [
    "''' Q9. Write a function sumPdivisors.'''"
   ]
  },
  {
   "cell_type": "code",
   "execution_count": 98,
   "id": "eee3f319",
   "metadata": {},
   "outputs": [],
   "source": [
    "def sumPdivisors(n):\n",
    "    sum=0\n",
    "    for i in range (1,n):\n",
    "        if n%i==0:\n",
    "            sum+=i\n",
    "    return sum"
   ]
  },
  {
   "cell_type": "code",
   "execution_count": 99,
   "id": "309fa0a5",
   "metadata": {},
   "outputs": [
    {
     "data": {
      "text/plain": [
       "220"
      ]
     },
     "execution_count": 99,
     "metadata": {},
     "output_type": "execute_result"
    }
   ],
   "source": [
    "sumPdivisors(284)"
   ]
  },
  {
   "cell_type": "code",
   "execution_count": 100,
   "id": "8aa14e27",
   "metadata": {},
   "outputs": [
    {
     "data": {
      "text/plain": [
       "' Q10. Write a function to find perfect sum or perfect number. '"
      ]
     },
     "execution_count": 100,
     "metadata": {},
     "output_type": "execute_result"
    }
   ],
   "source": [
    "''' Q10. Write a function to find perfect sum or perfect number. '''"
   ]
  },
  {
   "cell_type": "code",
   "execution_count": 101,
   "id": "94c7d072",
   "metadata": {},
   "outputs": [
    {
     "name": "stdout",
     "output_type": "stream",
     "text": [
      "Given number 28 is a Perfect Number\n"
     ]
    }
   ],
   "source": [
    "def perfectNumber(n):\n",
    "    if n == sumPdivisors(n):\n",
    "        print(f\"Given number {n} is a Perfect Number\")\n",
    "    else:\n",
    "        print(f\"Given number {n} is not a Perfect Number\")\n",
    "perfectNumber(28)"
   ]
  },
  {
   "cell_type": "code",
   "execution_count": 102,
   "id": "cf8a04ec",
   "metadata": {},
   "outputs": [
    {
     "data": {
      "text/plain": [
       "' Q11. Write a function to write amicable numbers.'"
      ]
     },
     "execution_count": 102,
     "metadata": {},
     "output_type": "execute_result"
    }
   ],
   "source": [
    "''' Q11. Write a function to write amicable numbers.'''"
   ]
  },
  {
   "cell_type": "code",
   "execution_count": 103,
   "id": "f9c48e8a",
   "metadata": {},
   "outputs": [],
   "source": [
    "def amicableNumbers(a,b):\n",
    "    if a==sumPdivisors(b) and b==sumPdivisors(a):\n",
    "        print(f\"Given numbers {a} and {b} are amicable n\")"
   ]
  },
  {
   "cell_type": "code",
   "execution_count": 50,
   "id": "e9aaf367",
   "metadata": {},
   "outputs": [
    {
     "data": {
      "text/plain": [
       "' Q12. Write a program which can filter odd numbers in a list using filter function.'"
      ]
     },
     "execution_count": 50,
     "metadata": {},
     "output_type": "execute_result"
    }
   ],
   "source": [
    "''' Q12. Write a program which can filter odd numbers in a list using filter function.'''"
   ]
  },
  {
   "cell_type": "code",
   "execution_count": 67,
   "id": "2bee16ea",
   "metadata": {},
   "outputs": [
    {
     "name": "stdout",
     "output_type": "stream",
     "text": [
      "[1, 2, 3, 4, 5, 6, 7, 8, 9, 10, 11, 12, 13, 14, 15, 16, 17, 18, 19, 20, 21, 22, 23, 24, 25, 26, 27, 28, 29, 30, 31, 32, 33, 34, 35, 36, 37, 38, 39, 40, 41, 42, 43, 44, 45, 46, 47, 48, 49, 50, 51, 52, 53, 54, 55, 56, 57, 58, 59, 60, 61, 62, 63, 64, 65, 66, 67, 68, 69, 70, 71, 72, 73, 74, 75, 76, 77, 78, 79, 80, 81, 82, 83, 84, 85, 86, 87, 88, 89, 90, 91, 92, 93, 94, 95, 96, 97, 98, 99, 100]\n",
      "--------------\n",
      "[2, 4, 6, 8, 10, 12, 14, 16, 18, 20, 22, 24, 26, 28, 30, 32, 34, 36, 38, 40, 42, 44, 46, 48, 50, 52, 54, 56, 58, 60, 62, 64, 66, 68, 70, 72, 74, 76, 78, 80, 82, 84, 86, 88, 90, 92, 94, 96, 98, 100]\n"
     ]
    }
   ],
   "source": [
    "lst=[]\n",
    "for i in range(1,101):\n",
    "    lst.append(i)\n",
    "print(lst)\n",
    "print(\"--------------\")\n",
    "new_lst=list(filter((lambda n:n%2==0 ),lst))\n",
    "print(new_lst)"
   ]
  },
  {
   "cell_type": "code",
   "execution_count": 68,
   "id": "cc37357a",
   "metadata": {},
   "outputs": [
    {
     "data": {
      "text/plain": [
       "' Q13. Write a program which can map to a list whose elements are cube of element in a given list.'"
      ]
     },
     "execution_count": 68,
     "metadata": {},
     "output_type": "execute_result"
    }
   ],
   "source": [
    "''' Q13. Write a program which can map to a list whose elements are cube of element in a given list.'''"
   ]
  },
  {
   "cell_type": "code",
   "execution_count": 73,
   "id": "c2da505a",
   "metadata": {},
   "outputs": [
    {
     "name": "stdout",
     "output_type": "stream",
     "text": [
      "[1, 2, 3, 4, 5, 6, 7, 8, 9, 10]\n",
      "[1, 8, 27, 64, 125, 216, 343, 512, 729, 1000]\n"
     ]
    }
   ],
   "source": [
    "lst=[]\n",
    "for i in range(1,11):\n",
    "    lst.append(i)\n",
    "print(lst)\n",
    "new_lst=list(map((lambda n : n**3),lst))\n",
    "print(new_lst)"
   ]
  },
  {
   "cell_type": "code",
   "execution_count": 74,
   "id": "f68b65d9",
   "metadata": {},
   "outputs": [
    {
     "data": {
      "text/plain": [
       "' Q14. Write a program which can filter and map to make a list whose elements are cube of even number in a list.'"
      ]
     },
     "execution_count": 74,
     "metadata": {},
     "output_type": "execute_result"
    }
   ],
   "source": [
    "''' Q14. Write a program which can filter and map to make a list whose elements are cube of even number in a list.'''"
   ]
  },
  {
   "cell_type": "code",
   "execution_count": 75,
   "id": "8cefa864",
   "metadata": {},
   "outputs": [
    {
     "name": "stdout",
     "output_type": "stream",
     "text": [
      "[1, 2, 3, 4, 5, 6, 7, 8, 9, 10]\n",
      "--------------\n",
      "[2, 4, 6, 8, 10]\n"
     ]
    }
   ],
   "source": [
    "lst=[]\n",
    "for i in range(1,11):\n",
    "    lst.append(i)\n",
    "print(lst)\n",
    "print(\"--------------\")\n",
    "new_lst=list(filter((lambda n:n%2==0 ),lst))\n",
    "cube_lst=list(map(lambda n:n**3),new)\n",
    "print(new_lst)"
   ]
  },
  {
   "cell_type": "code",
   "execution_count": null,
   "id": "f6b29b49",
   "metadata": {},
   "outputs": [],
   "source": []
  }
 ],
 "metadata": {
  "kernelspec": {
   "display_name": "Python 3 (ipykernel)",
   "language": "python",
   "name": "python3"
  },
  "language_info": {
   "codemirror_mode": {
    "name": "ipython",
    "version": 3
   },
   "file_extension": ".py",
   "mimetype": "text/x-python",
   "name": "python",
   "nbconvert_exporter": "python",
   "pygments_lexer": "ipython3",
   "version": "3.10.9"
  }
 },
 "nbformat": 4,
 "nbformat_minor": 5
}
